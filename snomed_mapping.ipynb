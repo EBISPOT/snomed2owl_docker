{
 "cells": [
  {
   "cell_type": "code",
   "execution_count": 128,
   "metadata": {},
   "outputs": [],
   "source": [
    "date = \"2020-03-09\"\n",
    "date_sn = date.replace(\"-\",\"\")\n",
    "snomed_zip = \"/Users/matentzn/ws/snomed_test_data/SnomedCT_InternationalRF2_PRODUCTION_{}T120000Z.zip\".format(date_sn)\n",
    "snomed_mapping_extended = \"mapping_extended.tsv\"\n",
    "snomed_mapping_simple = \"mapping_simple.tsv\"\n",
    "snomed_config = \"snomed_config.yaml\""
   ]
  },
  {
   "cell_type": "code",
   "execution_count": 129,
   "metadata": {},
   "outputs": [],
   "source": [
    "import os\n",
    "import shutil\n",
    "import zipfile\n",
    "import pandas as pd\n",
    "import yaml\n",
    "import json"
   ]
  },
  {
   "cell_type": "code",
   "execution_count": 130,
   "metadata": {},
   "outputs": [],
   "source": [
    "snomed_mapping_in_zip = \"SnomedCT_InternationalRF2_PRODUCTION_{}T120000Z/Snapshot/Refset/Map/der2_iisssccRefset_ExtendedMapSnapshot_INT_{}.txt\".format(date_sn,date_sn)\n",
    "simple_snomed_mapping_in_zip = \"SnomedCT_InternationalRF2_PRODUCTION_{}T120000Z/Snapshot/Refset/Map/der2_sRefset_SimpleMapSnapshot_INT_{}.txt\".format(date_sn,date_sn)\n",
    "\n",
    "with zipfile.ZipFile(snomed_zip) as z:\n",
    "    with z.open(snomed_mapping_in_zip) as zf, open(snomed_mapping_extended, 'wb') as f:\n",
    "        shutil.copyfileobj(zf, f)\n",
    "    with z.open(simple_snomed_mapping_in_zip) as zf, open(snomed_mapping_simple, 'wb') as f:\n",
    "        shutil.copyfileobj(zf, f)"
   ]
  },
  {
   "cell_type": "code",
   "execution_count": 138,
   "metadata": {},
   "outputs": [],
   "source": [
    "dfe = pd.read_csv(snomed_mapping_extended,sep=\"\\t\") \n",
    "dfs = pd.read_csv(snomed_mapping_simple,sep=\"\\t\") "
   ]
  },
  {
   "cell_type": "code",
   "execution_count": 139,
   "metadata": {},
   "outputs": [],
   "source": [
    "## Processing extended mappings"
   ]
  },
  {
   "cell_type": "code",
   "execution_count": 150,
   "metadata": {},
   "outputs": [
    {
     "name": "stdout",
     "output_type": "stream",
     "text": [
      "------------------\n",
      "meta:\n",
      "icd metadata codes: https://confluence.ihtsdotools.org/display/RMT/SNOMED+CT+Managed+Service+-+US+Edition+Mapping+SNOMED+CT+to+ICD-10-CM+Technical+Specifications+-+March+2020\n",
      "Module codes: https://confluence.ihtsdotools.org/display/DOCEXTPG/4.2+Modules\n",
      "------------------\n",
      "mapCategoryId:\n",
      "447638001 (The map source concept cannot be classified)\n",
      "447639009 (The map is context dependent)\n",
      "447640006 (The source concept is ambiguous)\n",
      "447635003 (Guidance from NCHS is ambiguous)\n",
      "447641005 (The source SNOMED CT concept is incompletely modeled)\n",
      "------------------\n",
      "moduleId:\n",
      "449080006 (SNOMED CT to ICD-10 rule-based mapping module)\n",
      "731000124108 (US National Library of Medicine maintained module)\n",
      "22091000087100 (Canada Health Infoway Reference Set Module)\n",
      "999000011000000103 (SNOMED CT United Kingdom clinical extension module)\n",
      "------------------\n",
      "refsetId:\n",
      "447562003 (ICD-10 complex map reference set)\n",
      "446608001 (ICD-O simple map reference set)\n",
      "900000000000497000 (CTV3 simple map reference set)\n"
     ]
    }
   ],
   "source": [
    "config = yaml.load(open(snomed_config, 'r'), Loader=yaml.FullLoader)\n",
    "for key in config:\n",
    "    if key!=\"snomed\":\n",
    "        print(\"------------------\")\n",
    "        print(key+\":\")\n",
    "        for c in config.get(key):\n",
    "            if \"id\" in c:\n",
    "                print(\"{} ({})\".format(c['id'],c['label']))\n",
    "            elif \"comment\" in c:\n",
    "                print(c['comment'])"
   ]
  },
  {
   "cell_type": "code",
   "execution_count": 141,
   "metadata": {},
   "outputs": [
    {
     "data": {
      "text/plain": [
       "447562003    177845\n",
       "Name: refsetId, dtype: int64"
      ]
     },
     "execution_count": 141,
     "metadata": {},
     "output_type": "execute_result"
    }
   ],
   "source": [
    "# check whether orphanet\n",
    "dfe['refsetId'].value_counts()"
   ]
  },
  {
   "cell_type": "code",
   "execution_count": null,
   "metadata": {},
   "outputs": [],
   "source": [
    "\n",
    "\n",
    "# Excluded columns:\n",
    "# id, effectiveTime, correlationId, mapAdvice (human readable advice on how to interpret map), mapGroup\n",
    "\n",
    "# Check metadata here: https://confluence.ihtsdotools.org/display/DOCRELFMT/5.2.10+Complex+and+Extended+Map+Reference+Sets\n",
    "print(len(dfe))\n",
    "dfe = dfe[dfe['active']==1] # only take into account currently active mappings\n",
    "print(len(dfe))\n",
    "dfe = dfe[dfe['mapRule']==\"TRUE\"] # only use unconditional \n",
    "print(len(dfe))\n",
    "dfe = dfe[dfe['mapCategoryId']==447637006] # only use \"properly classified\" mappings\n",
    "print(len(dfe))\n",
    "\n",
    "relevant_colums = ['active','moduleId','refsetId', 'referencedComponentId','mapTarget','mapCategoryId']\n",
    "dfe = dfe[relevant_colums]"
   ]
  },
  {
   "cell_type": "code",
   "execution_count": null,
   "metadata": {},
   "outputs": [],
   "source": [
    "dfs.head()"
   ]
  },
  {
   "cell_type": "code",
   "execution_count": 142,
   "metadata": {},
   "outputs": [
    {
     "data": {
      "text/plain": [
       "900000000000497000    474073\n",
       "446608001              26868\n",
       "Name: refsetId, dtype: int64"
      ]
     },
     "execution_count": 142,
     "metadata": {},
     "output_type": "execute_result"
    }
   ],
   "source": [
    "dfs['refsetId'].value_counts()"
   ]
  },
  {
   "cell_type": "code",
   "execution_count": 146,
   "metadata": {},
   "outputs": [],
   "source": [
    "# \"fromCurie\",\"toCurie\",\"datasourcePrefix\",\"datasource\",\"sourceType\",\"scope\",\"date\"\n",
    "\n",
    "# dfe: dataframe with \n",
    "def prepare_ols_mapping(dfe,fromOID,toOID,config):\n",
    "    df_mapping = dfe[['referencedComponentId','mapTarget']]\n",
    "    df_mapping=df_mapping[~df_mapping['mapTarget'].isnull()]\n",
    "    df_mapping.columns = ['fromCurie','toCurie']\n",
    "    df_mapping['fromCurie'] = \"{}:\".format(fromOID)+df_mapping['fromCurie'].astype(str)\n",
    "    df_mapping['toCurie'] = \"{}:\".format(toOID)+df_mapping['toCurie'].astype(str)\n",
    "    df_mapping['datasourcePrefix'] = fromOID\n",
    "    df_mapping['datasource'] = fromOID\n",
    "    df_mapping['sourceType'] = \"ONTOLOGY\"\n",
    "    df_mapping['scope'] = \"RELATED\"\n",
    "    df_mapping['date'] = date\n",
    "    df_mapping.to_csv('snomed_mapping_oxo.csv')\n",
    "    df_mapping['datasource'] = json.dumps(config['snomed'])\n",
    "    df_mapping.to_csv('snomed_mapping_oxo_old.csv')\n"
   ]
  },
  {
   "cell_type": "code",
   "execution_count": null,
   "metadata": {},
   "outputs": [],
   "source": [
    "# Config is json blob like:\n",
    "\"\"\"  \n",
    "  alternateIris: null\n",
    "  name: \"SNOMED CT International\"\n",
    "  source: \"ONTOLOGY\"\n",
    "  idorgNamespace: \"\"\n",
    "  alternatePrefix: \n",
    "    - \"SNOMEDCT\"\n",
    "    - \"SNOMED\"\n",
    "  prefix: \"SNOMEDCT\"\n",
    "  licence: \"https://www.nlm.nih.gov/healthit/snomedct/snomed_licensing.html\"\n",
    "  orcid: null\n",
    "  versionInfo: \"\"\n",
    "  preferredPrefix: \"SNOMEDCT\"\n",
    "\"\"\"\n",
    "    \n",
    "def prepare_ols_mapping(dfe,fromOID,config):\n",
    "    df_mapping = dfe[['fromCurie','toCurie']]\n",
    "    df_mapping['datasourcePrefix'] = fromOID\n",
    "    df_mapping['datasource'] = json.dumps(config)\n",
    "    df_mapping['sourceType'] = \"ONTOLOGY\"\n",
    "    df_mapping['scope'] = \"RELATED\"\n",
    "    df_mapping['date'] = date\n",
    "    df_mapping.to_csv('snomed_mapping_oxo_old.csv')"
   ]
  },
  {
   "cell_type": "code",
   "execution_count": 147,
   "metadata": {},
   "outputs": [
    {
     "data": {
      "text/html": [
       "<div>\n",
       "<style scoped>\n",
       "    .dataframe tbody tr th:only-of-type {\n",
       "        vertical-align: middle;\n",
       "    }\n",
       "\n",
       "    .dataframe tbody tr th {\n",
       "        vertical-align: top;\n",
       "    }\n",
       "\n",
       "    .dataframe thead th {\n",
       "        text-align: right;\n",
       "    }\n",
       "</style>\n",
       "<table border=\"1\" class=\"dataframe\">\n",
       "  <thead>\n",
       "    <tr style=\"text-align: right;\">\n",
       "      <th></th>\n",
       "      <th>fromCurie</th>\n",
       "      <th>toCurie</th>\n",
       "      <th>datasourcePrefix</th>\n",
       "      <th>datasource</th>\n",
       "      <th>sourceType</th>\n",
       "      <th>scope</th>\n",
       "      <th>date</th>\n",
       "    </tr>\n",
       "  </thead>\n",
       "  <tbody>\n",
       "    <tr>\n",
       "      <th>42741</th>\n",
       "      <td>SNOMEDCT:26929004</td>\n",
       "      <td>ICD10CM:G30.9</td>\n",
       "      <td>SNOMED</td>\n",
       "      <td>{\"alternateIris\": [], \"name\": \"SNOMED CT Inter...</td>\n",
       "      <td>ONTOLOGY</td>\n",
       "      <td>RELATED</td>\n",
       "      <td>20-02-29</td>\n",
       "    </tr>\n",
       "  </tbody>\n",
       "</table>\n",
       "</div>"
      ],
      "text/plain": [
       "               fromCurie        toCurie datasourcePrefix  \\\n",
       "42741  SNOMEDCT:26929004  ICD10CM:G30.9           SNOMED   \n",
       "\n",
       "                                              datasource sourceType    scope  \\\n",
       "42741  {\"alternateIris\": [], \"name\": \"SNOMED CT Inter...   ONTOLOGY  RELATED   \n",
       "\n",
       "           date  \n",
       "42741  20-02-29  "
      ]
     },
     "execution_count": 147,
     "metadata": {},
     "output_type": "execute_result"
    }
   ],
   "source": [
    "prepare_ols_mapping(dfe,\"SNOMEDCT\",\"ICD10CM\",config)\n",
    "df_mapping[df_mapping['fromCurie']==\"SNOMEDCT:26929004\"].head()\n"
   ]
  },
  {
   "cell_type": "code",
   "execution_count": 151,
   "metadata": {},
   "outputs": [
    {
     "name": "stdout",
     "output_type": "stream",
     "text": [
      "{'id': 900000000000497000, 'label': 'CTV3 simple map reference set', 'curie_prefix': 'CTV3'}\n",
      "900000000000497000\n",
      "CTV3\n",
      "{'id': 446608001, 'label': 'ICD-O simple map reference set', 'curie_prefix': 'ICDO'}\n",
      "446608001\n",
      "ICDO\n"
     ]
    }
   ],
   "source": [
    "for refsetid in dfs['refsetId'].unique():\n",
    "    curie_prefix = \"ID\"\n",
    "    for c in config['refsetId']:\n",
    "        if c['id']==refsetid:\n",
    "            print(c)\n",
    "            curie_prefix = c['curie_prefix']\n",
    "    print(refsetid)\n",
    "    print(curie_prefix)\n",
    "    dfs_ref = dfs[dfs['refsetId']==refsetid]\n",
    "    prepare_ols_mapping(dfe,\"SNOMEDCT\",curie_prefix,config)"
   ]
  },
  {
   "cell_type": "code",
   "execution_count": null,
   "metadata": {},
   "outputs": [],
   "source": []
  }
 ],
 "metadata": {
  "kernelspec": {
   "display_name": "Python 3",
   "language": "python",
   "name": "python3"
  },
  "language_info": {
   "codemirror_mode": {
    "name": "ipython",
    "version": 3
   },
   "file_extension": ".py",
   "mimetype": "text/x-python",
   "name": "python",
   "nbconvert_exporter": "python",
   "pygments_lexer": "ipython3",
   "version": "3.7.3"
  }
 },
 "nbformat": 4,
 "nbformat_minor": 2
}
